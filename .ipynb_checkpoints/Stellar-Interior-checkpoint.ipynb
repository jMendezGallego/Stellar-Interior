{
 "cells": [
  {
   "cell_type": "markdown",
   "id": "8855ed4e",
   "metadata": {},
   "source": [
    "# Stellar interior model"
   ]
  },
  {
   "cell_type": "markdown",
   "id": "96c11817",
   "metadata": {},
   "source": [
    "Importamos las librerías necesarias para el código"
   ]
  },
  {
   "cell_type": "code",
   "execution_count": 1,
   "id": "1e87a0da",
   "metadata": {},
   "outputs": [],
   "source": [
    "import numpy as np\n",
    "import matplotlib.pyplot as plt\n",
    "import pandas as pd"
   ]
  },
  {
   "cell_type": "markdown",
   "id": "c2009975",
   "metadata": {},
   "source": [
    "### Secondary Functions"
   ]
  },
  {
   "cell_type": "code",
   "execution_count": 2,
   "id": "43ceda51",
   "metadata": {},
   "outputs": [],
   "source": [
    "def energia(T,P,X,Y):\n",
    "    \"\"\" \n",
    "    Calculate the energy production based on the local conditions.\n",
    "    \n",
    "    The function decides what is the predominant reaction (pp or CN).\n",
    "    \n",
    "    Parameters\n",
    "    ---------- \n",
    "    T : Temperature. Input float.\n",
    "    P : Pressure. Input float.\n",
    "    X : Mass fraction of hydrogen. Input float.\n",
    "    Y : Mass fraction of helium. Input float.\n",
    "    \n",
    "    Returns\n",
    "    -------\n",
    "    reac : It is a string. It says which type of reaction has been chosen.\n",
    "        If reac is '--' it means there is no energy production.\n",
    "    nu,e : Parameters to calculate the energy production in our conditions.\n",
    "    \"\"\"\n",
    "    \n",
    "    \n",
    "    \n",
    "    # Cálculo de la densidad\n",
    "    Z=1-X-Y\n",
    "    mu = 1/(2*X+0.75*Y+0.5*Z)\n",
    "    H = 1/6.02214076e+23    # [g]\n",
    "    boltz = 1.380649e-23    # [J/K]\n",
    "    rho = mu*H/boltz*(P*10e8)/(T*10e7)\n",
    "    \n",
    "    \n",
    "    # Rangos de temperatura\n",
    "    # Cadena pp\n",
    "    if T < 0.4:\n",
    "        nu_pp = 0\n",
    "        e_pp = 0\n",
    "    elif T < 0.6:\n",
    "        nu_pp = 6\n",
    "        e_pp = 10**-6.84\n",
    "    elif T < 0.95:\n",
    "        nu_pp = 5\n",
    "        e_pp = 10**-6.04\n",
    "    elif T < 1.2:\n",
    "        nu_pp = 4.5\n",
    "        e_pp = 10**-5.56\n",
    "    elif T < 1.65:\n",
    "        nu_pp = 4\n",
    "        e_pp = 10**-5.02\n",
    "    elif T < 2.4:\n",
    "        nu_pp = 3.5\n",
    "        e_pp = 10**-4.40\n",
    "    else:\n",
    "        nu_pp = 0\n",
    "        e_pp = 0\n",
    "    \n",
    "    # Ciclo CN\n",
    "    if T < 1.2:\n",
    "        nu_cn = 0\n",
    "        e_cn = 0\n",
    "    elif T < 1.6:\n",
    "        nu_cn = 20\n",
    "        e_cn = 10**-22.2\n",
    "    elif T < 2.25:\n",
    "        nu_cn = 18\n",
    "        e_cn = 10**-19.8\n",
    "    elif T < 2.75:\n",
    "        nu_cn = 16\n",
    "        e_cn = 10**-17.1\n",
    "    elif T < 3.6:\n",
    "        nu_cn = 15\n",
    "        e_cn = 10**-15.6\n",
    "    elif T < 5.0:\n",
    "        nu_cn = 13\n",
    "        e_cn = 10**-12.5\n",
    "    else:\n",
    "        nu_cn = 0\n",
    "        e_cn= 0\n",
    "        \n",
    "    Epp = e_pp*(X**2)*rho*((T*10)**nu_pp)\n",
    "    Ecn = e_cn*X*Z/3*rho*((T*10)**nu_cn)\n",
    "    cual = (Ecn < Epp)      # Qué reacción domina?\n",
    "    if cual == True:\n",
    "        reac = 'pp'\n",
    "        nu = nu_pp\n",
    "        e = e_pp\n",
    "    else:\n",
    "        reac = 'CN'\n",
    "        nu = nu_cn\n",
    "        e = e_cn\n",
    "    if e_pp==0:        # Se produce energía?\n",
    "        reac = '--'\n",
    "    \n",
    "    return (reac,nu,e)\n",
    "\n"
   ]
  },
  {
   "cell_type": "code",
   "execution_count": null,
   "id": "48d85252",
   "metadata": {},
   "outputs": [],
   "source": []
  }
 ],
 "metadata": {
  "kernelspec": {
   "display_name": "Python 3 (ipykernel)",
   "language": "python",
   "name": "python3"
  },
  "language_info": {
   "codemirror_mode": {
    "name": "ipython",
    "version": 3
   },
   "file_extension": ".py",
   "mimetype": "text/x-python",
   "name": "python",
   "nbconvert_exporter": "python",
   "pygments_lexer": "ipython3",
   "version": "3.9.7"
  }
 },
 "nbformat": 4,
 "nbformat_minor": 5
}

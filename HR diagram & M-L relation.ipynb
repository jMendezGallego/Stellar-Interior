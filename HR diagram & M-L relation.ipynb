{
 "cells": [
  {
   "cell_type": "markdown",
   "id": "3da15729",
   "metadata": {},
   "source": [
    "# Diagrama HR"
   ]
  },
  {
   "cell_type": "code",
   "execution_count": 1,
   "id": "54544e04",
   "metadata": {},
   "outputs": [],
   "source": [
    "import numpy as np\n",
    "import matplotlib.pyplot as plt\n",
    "\n"
   ]
  },
  {
   "cell_type": "code",
   "execution_count": 2,
   "id": "19815280",
   "metadata": {},
   "outputs": [],
   "source": [
    "from astropy.table import Table\n",
    "t = Table.read('pleiades.vot')"
   ]
  },
  {
   "cell_type": "code",
   "execution_count": 17,
   "id": "67da3e3e",
   "metadata": {
    "scrolled": false
   },
   "outputs": [
    {
     "data": {
      "text/plain": [
       "False"
      ]
     },
     "execution_count": 17,
     "metadata": {},
     "output_type": "execute_result"
    }
   ],
   "source": [
    "list(t['dr2_rv_template_teff'])"
   ]
  },
  {
   "cell_type": "code",
   "execution_count": null,
   "id": "57dbf719",
   "metadata": {},
   "outputs": [],
   "source": []
  }
 ],
 "metadata": {
  "kernelspec": {
   "display_name": "Python 3 (ipykernel)",
   "language": "python",
   "name": "python3"
  },
  "language_info": {
   "codemirror_mode": {
    "name": "ipython",
    "version": 3
   },
   "file_extension": ".py",
   "mimetype": "text/x-python",
   "name": "python",
   "nbconvert_exporter": "python",
   "pygments_lexer": "ipython3",
   "version": "3.9.7"
  }
 },
 "nbformat": 4,
 "nbformat_minor": 5
}
